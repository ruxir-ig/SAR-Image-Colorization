{
 "cells": [
  {
   "cell_type": "markdown",
   "metadata": {},
   "source": [
    "step 0"
   ]
  },
  {
   "cell_type": "code",
   "execution_count": 1,
   "metadata": {},
   "outputs": [],
   "source": [
    "import torch\n",
    "import torchvision\n",
    "from torch.utils.data import DataLoader, Dataset\n",
    "from torch import nn\n",
    "from torch.nn import Conv2d, LeakyReLU, MaxPool2d, Flatten, Linear, Dropout, Upsample, ReLU, ConvTranspose2d, Tanh, BatchNorm2d\n",
    "from torchsummary import summary # type: ignore\n",
    "import torch.nn.functional as F"
   ]
  },
  {
   "cell_type": "code",
   "execution_count": 2,
   "metadata": {},
   "outputs": [
    {
     "name": "stdout",
     "output_type": "stream",
     "text": [
      "----------------------------------------------------------------\n",
      "        Layer (type)               Output Shape         Param #\n",
      "================================================================\n",
      "            Conv2d-1         [-1, 64, 511, 511]           1,088\n",
      "         LeakyReLU-2         [-1, 64, 511, 511]               0\n",
      "            Conv2d-3        [-1, 128, 254, 254]         131,200\n",
      "       BatchNorm2d-4        [-1, 128, 254, 254]             256\n",
      "         LeakyReLU-5        [-1, 128, 254, 254]               0\n",
      "            Conv2d-6       [-1, 1256, 126, 126]       2,573,544\n",
      "       BatchNorm2d-7       [-1, 1256, 126, 126]           2,512\n",
      "         LeakyReLU-8       [-1, 1256, 126, 126]               0\n",
      "            Conv2d-9          [-1, 512, 62, 62]      10,289,664\n",
      "      BatchNorm2d-10          [-1, 512, 62, 62]           1,024\n",
      "        LeakyReLU-11          [-1, 512, 62, 62]               0\n",
      "           Conv2d-12          [-1, 512, 30, 30]       4,194,816\n",
      "      BatchNorm2d-13          [-1, 512, 30, 30]           1,024\n",
      "        LeakyReLU-14          [-1, 512, 30, 30]               0\n",
      "           Conv2d-15          [-1, 512, 14, 14]       4,194,816\n",
      "      BatchNorm2d-16          [-1, 512, 14, 14]           1,024\n",
      "        LeakyReLU-17          [-1, 512, 14, 14]               0\n",
      "           Conv2d-18            [-1, 512, 6, 6]       4,194,816\n",
      "      BatchNorm2d-19            [-1, 512, 6, 6]           1,024\n",
      "        LeakyReLU-20            [-1, 512, 6, 6]               0\n",
      "           Conv2d-21            [-1, 512, 2, 2]       4,194,816\n",
      "             ReLU-22            [-1, 512, 2, 2]               0\n",
      "  ConvTranspose2d-23            [-1, 512, 6, 6]       4,194,816\n",
      "      BatchNorm2d-24            [-1, 512, 6, 6]           1,024\n",
      "             ReLU-25            [-1, 512, 6, 6]               0\n",
      "  ConvTranspose2d-26          [-1, 512, 14, 14]       4,194,816\n",
      "      BatchNorm2d-27          [-1, 512, 14, 14]           1,024\n",
      "             ReLU-28          [-1, 512, 14, 14]               0\n",
      "  ConvTranspose2d-29          [-1, 512, 30, 30]       4,194,816\n",
      "      BatchNorm2d-30          [-1, 512, 30, 30]           1,024\n",
      "             ReLU-31          [-1, 512, 30, 30]               0\n",
      "  ConvTranspose2d-32          [-1, 512, 62, 62]       4,194,816\n",
      "      BatchNorm2d-33          [-1, 512, 62, 62]           1,024\n",
      "             ReLU-34          [-1, 512, 62, 62]               0\n",
      "  ConvTranspose2d-35        [-1, 256, 126, 126]       2,097,408\n",
      "      BatchNorm2d-36        [-1, 256, 126, 126]             512\n",
      "             ReLU-37        [-1, 256, 126, 126]               0\n",
      "  ConvTranspose2d-38        [-1, 128, 254, 254]         524,416\n",
      "      BatchNorm2d-39        [-1, 128, 254, 254]             256\n",
      "             ReLU-40        [-1, 128, 254, 254]               0\n",
      "  ConvTranspose2d-41         [-1, 64, 510, 510]         131,136\n",
      "      BatchNorm2d-42         [-1, 64, 510, 510]             128\n",
      "             ReLU-43         [-1, 64, 510, 510]               0\n",
      "  ConvTranspose2d-44        [-1, 3, 1022, 1022]           3,075\n",
      "             Tanh-45        [-1, 3, 1022, 1022]               0\n",
      "================================================================\n",
      "Total params: 49,321,915\n",
      "Trainable params: 49,321,915\n",
      "Non-trainable params: 0\n",
      "----------------------------------------------------------------\n",
      "Input size (MB): 4.00\n",
      "Forward/backward pass size (MB): 1727.92\n",
      "Params size (MB): 188.15\n",
      "Estimated Total Size (MB): 1920.07\n",
      "----------------------------------------------------------------\n",
      "None\n"
     ]
    }
   ],
   "source": [
    "class GeneratorModel(nn.Module):\n",
    "    def __init__(self):\n",
    "        super().__init__()\n",
    "\n",
    "        self.conv1 = Conv2d(1, 64, kernel_size=4, stride=2)\n",
    "        self.db1 = nn.Sequential(\n",
    "            LeakyReLU(),\n",
    "            Conv2d(64, 128, kernel_size=4, stride=2),\n",
    "            BatchNorm2d(128)\n",
    "        )\n",
    "        self.db2 = nn.Sequential(\n",
    "            LeakyReLU(),\n",
    "            Conv2d(128, 1256, kernel_size=4, stride=2),\n",
    "            BatchNorm2d(1256)\n",
    "        )\n",
    "        self.db3 = nn.Sequential(\n",
    "            LeakyReLU(),\n",
    "            Conv2d(1256, 512, kernel_size=4, stride=2),\n",
    "            BatchNorm2d(512)\n",
    "        )\n",
    "        self.db4 = nn.Sequential(\n",
    "            LeakyReLU(),\n",
    "            Conv2d(512, 512, kernel_size=4, stride=2),\n",
    "            BatchNorm2d(512)\n",
    "        ) ## same as db 5 and db6\n",
    "        self.db5 = nn.Sequential(\n",
    "            LeakyReLU(),\n",
    "            Conv2d(512, 512, kernel_size=4, stride=2),\n",
    "            BatchNorm2d(512)\n",
    "        )\n",
    "        self.db6 = nn.Sequential(\n",
    "            LeakyReLU(),\n",
    "            Conv2d(512, 512, kernel_size=4, stride=2),\n",
    "            BatchNorm2d(512)\n",
    "        )\n",
    "        self.dl = nn.Sequential(\n",
    "            LeakyReLU(),\n",
    "            Conv2d(512, 512, kernel_size=4, stride=2),\n",
    "        )\n",
    "\n",
    "        self.uf = nn.Sequential(\n",
    "            ReLU(),\n",
    "            ConvTranspose2d(512, 512, kernel_size=4, stride=2),\n",
    "            BatchNorm2d(512)\n",
    "        )\n",
    "        self.ub1 = nn.Sequential(\n",
    "            ReLU(),\n",
    "            ConvTranspose2d(512, 512, kernel_size=4, stride=2),\n",
    "            BatchNorm2d(512)\n",
    "        ) ## same as ub2 and ub3\n",
    "        self.ub2 = nn.Sequential(\n",
    "            ReLU(),\n",
    "            ConvTranspose2d(512, 512, kernel_size=4, stride=2),\n",
    "            BatchNorm2d(512)\n",
    "        )\n",
    "        self.ub3 = nn.Sequential(\n",
    "            ReLU(),\n",
    "            ConvTranspose2d(512, 512, kernel_size=4, stride=2),\n",
    "            BatchNorm2d(512)\n",
    "        )\n",
    "        self.ub4 = nn.Sequential(\n",
    "            ReLU(),\n",
    "            ConvTranspose2d(512, 256, kernel_size=4, stride=2),\n",
    "            BatchNorm2d(256)\n",
    "        )\n",
    "        self.ub5 = nn.Sequential(\n",
    "            ReLU(),\n",
    "            ConvTranspose2d(256, 128, kernel_size=4, stride=2),\n",
    "            BatchNorm2d(128)\n",
    "        )\n",
    "\n",
    "        self.ub6 = nn.Sequential(\n",
    "            ReLU(),\n",
    "            ConvTranspose2d(128, 64, kernel_size=4, stride=2),\n",
    "            BatchNorm2d(64)\n",
    "        )\n",
    "        self.ul = nn.Sequential(\n",
    "            ReLU(),\n",
    "            ConvTranspose2d(64, 3, kernel_size=4, stride=2),\n",
    "            Tanh()\n",
    "        )\n",
    "\n",
    "    def forward(self, x):\n",
    "        c1 = self.conv1(x)\n",
    "        d1 = self.db1(c1)\n",
    "        d2 = self.db2(d1)\n",
    "        d3 = self.db3(d2)\n",
    "        d4 = self.db4(d3)\n",
    "        d5 = self.db5(d4)\n",
    "        d6 = self.db6(d5)\n",
    "        l = self.dl(d6)       # g = self.generator(l)\n",
    "        f = self.uf(l)\n",
    "        \n",
    "        conv = Conv2d(1024, 512, kernel_size=1).to(device=device)\n",
    "\n",
    "        u1 = self.ub1(conv(torch.cat([f, d6], dim=1)))\n",
    "        u2 = self.ub2(conv(torch.concat([u1, d5], dim=1)))\n",
    "        u3 = self.ub3(conv(torch.concat([u2, d4], dim=1)))\n",
    "        u4 = self.ub4(conv(torch.concat([u3, d3], dim=1)))\n",
    "\n",
    "        conv2 = Conv2d(1512, 256, kernel_size=1).to(device=device)\n",
    "\n",
    "        u5 = self.ub5(conv2(torch.concat([u4, d2], dim=1)))\n",
    "\n",
    "        conv3 = Conv2d(256, 128, kernel_size=1).to(device=device)\n",
    "\n",
    "        u6 = self.ub6(conv3(torch.concat([u5, d1], dim=1)))\n",
    "\n",
    "        c1_cropped = c1[:, :, :510, :510]\n",
    "        conv4 = Conv2d(128, 64, kernel_size=1).to(device=device)\n",
    "        u7 = self.ul(conv4(torch.concat([u6, c1_cropped], dim=1)))\n",
    "        return u7\n",
    "\n",
    "\n",
    "\n",
    "device = 'cuda' if torch.cuda.is_available() else 'cpu'\n",
    "model = GeneratorModel().to(device=device)\n",
    "# print(summary(model, (1, 1024, 1024)))\n",
    "print(summary(model, (1, 1024, 1024)))"
   ]
  },
  {
   "cell_type": "code",
   "execution_count": 3,
   "metadata": {},
   "outputs": [],
   "source": [
    "class DiscriminatorModel(nn.Module):\n",
    "    def __init__(self):\n",
    "        super().__init__()\n",
    "\n",
    "        self.bl0 = nn.Sequential(\n",
    "            Conv2d(4, 64, kernel_size=4, stride=2),\n",
    "            LeakyReLU(),\n",
    "        )\n",
    "        self.bl1 = nn.Sequential(\n",
    "            Conv2d(64, 128, kernel_size=4, stride=2),\n",
    "            BatchNorm2d(128),\n",
    "            LeakyReLU()\n",
    "        )\n",
    "        self.bl2 = nn.Sequential(\n",
    "            Conv2d(128, 256, kernel_size=4, stride=2),\n",
    "            BatchNorm2d(256),\n",
    "            LeakyReLU()\n",
    "        )\n",
    "        self.bl3 = nn.Sequential(\n",
    "            Conv2d(256, 512, kernel_size=4, stride=2),\n",
    "            BatchNorm2d(512),\n",
    "            LeakyReLU()\n",
    "        )\n",
    "\n",
    "        self.conv = Conv2d(512, 1, kernel_size=4, stride=2)\n",
    "        \n",
    "    def forward(self, SAR, cSAR):\n",
    "        x = torch.cat([SAR, cSAR], dim=1)\n",
    "        x = self.bl0(x)\n",
    "        x = self.bl1(x)\n",
    "        x = self.bl2(x)\n",
    "        x = self.bl3(x)\n",
    "        x = self.conv(x)\n",
    "        return x\n",
    "\n",
    "\n",
    "\n",
    "\n"
   ]
  },
  {
   "cell_type": "code",
   "execution_count": 4,
   "metadata": {},
   "outputs": [],
   "source": [
    "class SARModel():\n",
    "    def __init__(self):\n",
    "        self.generator = GeneratorModel().to(device=device)\n",
    "        self.discriminator = DiscriminatorModel().to(device=device)\n",
    "        #self.writer = SummaryWriter('runs/sar')\n",
    "\n",
    "    def train(self, train_dataloader:DataLoader, test_dataloader:DataLoader, epochs:int = 10):\n",
    "        pass\n",
    "\n",
    "\n",
    "if __name__ == '__main__':\n",
    "    device = 'cuda' if torch.cuda.is_available() else 'cpu'\n",
    "    g_model = GeneratorModel().to(device=device)\n",
    "    # print(summary(model, (1, 1024, 1024)))\n",
    "    # print(summary(g_model, (1, 1024, 1024)))\n",
    "    # print(g_model(torch.randn(1, 1, 1024, 1024).to(device=device)))\n",
    "\n",
    "    d_model = DiscriminatorModel().to(device=device)"
   ]
  },
  {
   "cell_type": "code",
   "execution_count": 5,
   "metadata": {},
   "outputs": [],
   "source": [
    "import torch\n",
    "import torch.nn as nn\n",
    "import torch.optim as optim\n",
    "from tqdm import tqdm\n",
    "from torch.utils.tensorboard import SummaryWriter\n",
    "\n",
    "class SARModel():\n",
    "    def __init__(self):\n",
    "        self.generator = GeneratorModel().to(device=device)\n",
    "        self.discriminator = DiscriminatorModel().to(device=device)\n",
    "        self.writer = SummaryWriter('runs/sar')\n",
    "\n",
    "        # Define optimizers\n",
    "        self.gen_optimizer = optim.Adam(self.generator.parameters(), lr=1e-4, betas=(0.5, 0.999))\n",
    "        self.disc_optimizer = optim.Adam(self.discriminator.parameters(), lr=1e-4, betas=(0.5, 0.999))\n",
    "\n",
    "        # Define loss function\n",
    "        self.criterion = nn.BCEWithLogitsLoss()  # Binary Cross Entropy Loss\n",
    "\n",
    "    def train(self, train_dataloader:DataLoader, test_dataloader:DataLoader, epochs:int = 10):\n",
    "        # Fixed labels for real and fake images\n",
    "        real_label = 1.0\n",
    "        fake_label = 0.0\n",
    "\n",
    "        for epoch in tqdm(range(epochs)):\n",
    "            epoch_gen_loss = 0.0\n",
    "            epoch_disc_loss = 0.0\n",
    "\n",
    "            for i, (grayscale_imgs, rgb_imgs) in enumerate(tqdm(train_dataloader)):\n",
    "                # Debugging: Print tensor shapes\n",
    "                print(f\"Grayscale image shape: {grayscale_imgs.shape}\")\n",
    "                print(f\"RGB image shape: {rgb_imgs.shape}\")\n",
    "\n",
    "                # Move tensors to GPU\n",
    "                grayscale_imgs = grayscale_imgs.to(device)\n",
    "                rgb_imgs = rgb_imgs.to(device)\n",
    "\n",
    "                # Discriminator Training\n",
    "                self.discriminator.zero_grad()\n",
    "\n",
    "                # Real images\n",
    "                output_real = self.discriminator(grayscale_imgs, rgb_imgs).view(-1)\n",
    "                print(f\"Discriminator output (real): {output_real.shape}\")\n",
    "                real_loss = self.criterion(output_real, torch.full_like(output_real, real_label, dtype=torch.float, device=device))\n",
    "                \n",
    "                # Fake images\n",
    "                fake_imgs = self.generator(grayscale_imgs)\n",
    "                output_fake = self.discriminator(grayscale_imgs, fake_imgs.detach()).view(-1)\n",
    "                print(f\"Discriminator output (fake): {output_fake.shape}\")\n",
    "                fake_loss = self.criterion(output_fake, torch.full_like(output_fake, fake_label, dtype=torch.float, device=device))\n",
    "                \n",
    "                # Total discriminator loss\n",
    "                disc_loss = real_loss + fake_loss\n",
    "                disc_loss.backward()\n",
    "                self.disc_optimizer.step()\n",
    "\n",
    "                # Generator Training\n",
    "                self.generator.zero_grad()\n",
    "\n",
    "                output_fake_for_gen = self.discriminator(grayscale_imgs, fake_imgs).view(-1)\n",
    "                gen_loss = self.criterion(output_fake_for_gen, torch.full_like(output_fake_for_gen, real_label, dtype=torch.float, device=device))\n",
    "                gen_loss.backward()\n",
    "                self.gen_optimizer.step()\n",
    "\n",
    "                # Accumulate losses for logging\n",
    "                epoch_gen_loss += gen_loss.item()\n",
    "                epoch_disc_loss += disc_loss.item()\n",
    "\n",
    "            # Log the average loss over the epoch\n",
    "            self.writer.add_scalar('Generator Loss', epoch_gen_loss / len(train_dataloader), epoch)\n",
    "            self.writer.add_scalar('Discriminator Loss', epoch_disc_loss / len(train_dataloader), epoch)\n",
    "            \n",
    "            print(f\"Epoch [{epoch + 1}/{epochs}] | Gen Loss: {epoch_gen_loss / len(train_dataloader):.4f} | Disc Loss: {epoch_disc_loss / len(train_dataloader):.4f}\")\n"
   ]
  },
  {
   "cell_type": "code",
   "execution_count": 6,
   "metadata": {},
   "outputs": [
    {
     "name": "stderr",
     "output_type": "stream",
     "text": [
      "<>:7: SyntaxWarning: invalid escape sequence '\\m'\n",
      "<>:7: SyntaxWarning: invalid escape sequence '\\m'\n",
      "C:\\Users\\Ruchir Kalokhe\\AppData\\Local\\Temp\\ipykernel_15132\\3321347892.py:7: SyntaxWarning: invalid escape sequence '\\m'\n",
      "  basedir = Path('C:\\ml\\sanji\\sih\\Sar_Colorization\\ROIs2017_winter_s2')\n",
      "C:\\Users\\Ruchir Kalokhe\\AppData\\Local\\Temp\\ipykernel_15132\\3321347892.py:7: SyntaxWarning: invalid escape sequence '\\m'\n",
      "  basedir = Path('C:\\ml\\sanji\\sih\\Sar_Colorization\\ROIs2017_winter_s2')\n"
     ]
    },
    {
     "ename": "ValueError",
     "evalue": "Sample larger than population or is negative",
     "output_type": "error",
     "traceback": [
      "\u001b[1;31m---------------------------------------------------------------------------\u001b[0m",
      "\u001b[1;31mValueError\u001b[0m                                Traceback (most recent call last)",
      "Cell \u001b[1;32mIn[6], line 10\u001b[0m\n\u001b[0;32m      7\u001b[0m basedir \u001b[38;5;241m=\u001b[39m Path(\u001b[38;5;124m'\u001b[39m\u001b[38;5;124mC:\u001b[39m\u001b[38;5;124m\\\u001b[39m\u001b[38;5;124mml\u001b[39m\u001b[38;5;124m\\\u001b[39m\u001b[38;5;124msanji\u001b[39m\u001b[38;5;124m\\\u001b[39m\u001b[38;5;124msih\u001b[39m\u001b[38;5;124m\\\u001b[39m\u001b[38;5;124mSar_Colorization\u001b[39m\u001b[38;5;124m\\\u001b[39m\u001b[38;5;124mROIs2017_winter_s2\u001b[39m\u001b[38;5;124m'\u001b[39m)\n\u001b[0;32m      8\u001b[0m imagepath \u001b[38;5;241m=\u001b[39m \u001b[38;5;28mlist\u001b[39m(basedir\u001b[38;5;241m.\u001b[39mglob(\u001b[38;5;124m'\u001b[39m\u001b[38;5;124m*/*.tif\u001b[39m\u001b[38;5;124m'\u001b[39m))\n\u001b[1;32m---> 10\u001b[0m train_paths \u001b[38;5;241m=\u001b[39m \u001b[43mrandom\u001b[49m\u001b[38;5;241;43m.\u001b[39;49m\u001b[43msample\u001b[49m\u001b[43m(\u001b[49m\u001b[43mimagepath\u001b[49m\u001b[43m,\u001b[49m\u001b[43m \u001b[49m\u001b[38;5;241;43m500\u001b[39;49m\u001b[43m)\u001b[49m\n\u001b[0;32m     11\u001b[0m test_path \u001b[38;5;241m=\u001b[39m random\u001b[38;5;241m.\u001b[39msample([img \u001b[38;5;28;01mfor\u001b[39;00m img \u001b[38;5;129;01min\u001b[39;00m imagepath \u001b[38;5;28;01mif\u001b[39;00m img \u001b[38;5;129;01mnot\u001b[39;00m \u001b[38;5;129;01min\u001b[39;00m train_paths], \u001b[38;5;241m100\u001b[39m)\n\u001b[0;32m     12\u001b[0m \u001b[38;5;28mprint\u001b[39m(\u001b[38;5;28mlen\u001b[39m(train_paths), \u001b[38;5;28mlen\u001b[39m(test_path))\n",
      "File \u001b[1;32mc:\\Users\\Ruchir Kalokhe\\AppData\\Local\\Programs\\Python\\Python312\\Lib\\random.py:430\u001b[0m, in \u001b[0;36mRandom.sample\u001b[1;34m(self, population, k, counts)\u001b[0m\n\u001b[0;32m    428\u001b[0m randbelow \u001b[38;5;241m=\u001b[39m \u001b[38;5;28mself\u001b[39m\u001b[38;5;241m.\u001b[39m_randbelow\n\u001b[0;32m    429\u001b[0m \u001b[38;5;28;01mif\u001b[39;00m \u001b[38;5;129;01mnot\u001b[39;00m \u001b[38;5;241m0\u001b[39m \u001b[38;5;241m<\u001b[39m\u001b[38;5;241m=\u001b[39m k \u001b[38;5;241m<\u001b[39m\u001b[38;5;241m=\u001b[39m n:\n\u001b[1;32m--> 430\u001b[0m     \u001b[38;5;28;01mraise\u001b[39;00m \u001b[38;5;167;01mValueError\u001b[39;00m(\u001b[38;5;124m\"\u001b[39m\u001b[38;5;124mSample larger than population or is negative\u001b[39m\u001b[38;5;124m\"\u001b[39m)\n\u001b[0;32m    431\u001b[0m result \u001b[38;5;241m=\u001b[39m [\u001b[38;5;28;01mNone\u001b[39;00m] \u001b[38;5;241m*\u001b[39m k\n\u001b[0;32m    432\u001b[0m setsize \u001b[38;5;241m=\u001b[39m \u001b[38;5;241m21\u001b[39m        \u001b[38;5;66;03m# size of a small set minus size of an empty list\u001b[39;00m\n",
      "\u001b[1;31mValueError\u001b[0m: Sample larger than population or is negative"
     ]
    }
   ],
   "source": [
    "from torch.utils.data import DataLoader, Dataset\n",
    "import os\n",
    "from pathlib import Path\n",
    "from skimage import io\n",
    "import random\n",
    "\n",
    "basedir = Path('C:\\ml\\sanji\\sih\\Sar_Colorization\\ROIs2017_winter_s2')\n",
    "imagepath = list(basedir.glob('*/*.tif'))\n",
    "\n",
    "train_paths = random.sample(imagepath, 500)\n",
    "test_path = random.sample([img for img in imagepath if img not in train_paths], 100)\n",
    "print(len(train_paths), len(test_path))"
   ]
  },
  {
   "cell_type": "code",
   "execution_count": null,
   "metadata": {},
   "outputs": [
    {
     "ename": "NameError",
     "evalue": "name 'test_path' is not defined",
     "output_type": "error",
     "traceback": [
      "\u001b[1;31m---------------------------------------------------------------------------\u001b[0m",
      "\u001b[1;31mNameError\u001b[0m                                 Traceback (most recent call last)",
      "Cell \u001b[1;32mIn[10], line 1\u001b[0m\n\u001b[1;32m----> 1\u001b[0m \u001b[43mtest_path\u001b[49m\n",
      "\u001b[1;31mNameError\u001b[0m: name 'test_path' is not defined"
     ]
    }
   ],
   "source": [
    "test_path"
   ]
  },
  {
   "cell_type": "code",
   "execution_count": null,
   "metadata": {},
   "outputs": [],
   "source": [
    "import numpy as np\n",
    "class create_dataset(Dataset):\n",
    "    def __init__(self, image_paths):\n",
    "        self.image_paths = image_paths\n",
    "\n",
    "    def __len__(self):\n",
    "        return len(self.image_paths)\n",
    "\n",
    "    def __getitem__(self, idx):\n",
    "        img = io.imread(self.image_paths[idx])\n",
    "            # Normalize the image to 0-1 range for each channel\n",
    "        img_normalized = (img - img.min()) / (img.max() - img.min())\n",
    "\n",
    "        # Create a pseudo-color image\n",
    "        pseudo_color = np.stack([\n",
    "            img_normalized[:,:,3],  # Red channel\n",
    "            img_normalized[:,:,2],  # Green channel\n",
    "            img_normalized[:,:,1] # img_normalized[:,:,1]) / 2  # Blue channel (average of the two)\n",
    "        ], axis=-1)\n",
    "        img = np.mean(pseudo_color, axis=2)\n",
    "        img = torch.tensor(img, dtype=torch.float).unsqueeze(0)\n",
    "        pseudo_color = torch.tensor(pseudo_color, dtype=torch.float).permute(2, 0, 1)\n",
    "        return img, pseudo_color"
   ]
  },
  {
   "cell_type": "code",
   "execution_count": null,
   "metadata": {},
   "outputs": [
    {
     "ename": "NameError",
     "evalue": "name 'train_paths' is not defined",
     "output_type": "error",
     "traceback": [
      "\u001b[1;31m---------------------------------------------------------------------------\u001b[0m",
      "\u001b[1;31mNameError\u001b[0m                                 Traceback (most recent call last)",
      "Cell \u001b[1;32mIn[12], line 1\u001b[0m\n\u001b[1;32m----> 1\u001b[0m train_dataset \u001b[38;5;241m=\u001b[39m create_dataset(\u001b[43mtrain_paths\u001b[49m)\n\u001b[0;32m      2\u001b[0m test_dataset \u001b[38;5;241m=\u001b[39m create_dataset(test_path)\n",
      "\u001b[1;31mNameError\u001b[0m: name 'train_paths' is not defined"
     ]
    }
   ],
   "source": [
    "train_dataset = create_dataset(train_paths)\n",
    "test_dataset = create_dataset(test_path)"
   ]
  },
  {
   "cell_type": "code",
   "execution_count": null,
   "metadata": {},
   "outputs": [],
   "source": [
    "train_dataloader = DataLoader(train_dataset, batch_size=4, shuffle=True)\n",
    "test_dataloader = DataLoader(test_dataset, batch_size=4, shuffle=False)"
   ]
  },
  {
   "cell_type": "code",
   "execution_count": null,
   "metadata": {},
   "outputs": [
    {
     "ename": "NameError",
     "evalue": "name 'train_dataset' is not defined",
     "output_type": "error",
     "traceback": [
      "\u001b[1;31m---------------------------------------------------------------------------\u001b[0m",
      "\u001b[1;31mNameError\u001b[0m                                 Traceback (most recent call last)",
      "Cell \u001b[1;32mIn[13], line 1\u001b[0m\n\u001b[1;32m----> 1\u001b[0m \u001b[38;5;28mnext\u001b[39m(\u001b[38;5;28miter\u001b[39m(\u001b[43mtrain_dataset\u001b[49m))\n",
      "\u001b[1;31mNameError\u001b[0m: name 'train_dataset' is not defined"
     ]
    }
   ],
   "source": [
    "next(iter(train_dataset))"
   ]
  },
  {
   "cell_type": "code",
   "execution_count": null,
   "metadata": {},
   "outputs": [
    {
     "data": {
      "text/plain": [
       "(torch.Size([1, 256, 256]), torch.Size([3, 256, 256]))"
      ]
     },
     "execution_count": 12,
     "metadata": {},
     "output_type": "execute_result"
    }
   ],
   "source": [
    "x,y = next(iter(train_dataset))\n",
    "x.shape, y.shape"
   ]
  },
  {
   "cell_type": "code",
   "execution_count": null,
   "metadata": {},
   "outputs": [
    {
     "name": "stdout",
     "output_type": "stream",
     "text": [
      "Requirement already satisfied: scikit-image in c:\\users\\ruchir kalokhe\\appdata\\local\\programs\\python\\python312\\lib\\site-packages (0.24.0)\n",
      "Requirement already satisfied: numpy>=1.23 in c:\\users\\ruchir kalokhe\\appdata\\local\\programs\\python\\python312\\lib\\site-packages (from scikit-image) (1.26.3)\n",
      "Requirement already satisfied: scipy>=1.9 in c:\\users\\ruchir kalokhe\\appdata\\local\\programs\\python\\python312\\lib\\site-packages (from scikit-image) (1.14.1)\n",
      "Requirement already satisfied: networkx>=2.8 in c:\\users\\ruchir kalokhe\\appdata\\local\\programs\\python\\python312\\lib\\site-packages (from scikit-image) (3.2.1)\n",
      "Requirement already satisfied: pillow>=9.1 in c:\\users\\ruchir kalokhe\\appdata\\local\\programs\\python\\python312\\lib\\site-packages (from scikit-image) (10.2.0)\n",
      "Requirement already satisfied: imageio>=2.33 in c:\\users\\ruchir kalokhe\\appdata\\local\\programs\\python\\python312\\lib\\site-packages (from scikit-image) (2.35.1)\n",
      "Requirement already satisfied: tifffile>=2022.8.12 in c:\\users\\ruchir kalokhe\\appdata\\local\\programs\\python\\python312\\lib\\site-packages (from scikit-image) (2024.8.30)\n",
      "Requirement already satisfied: packaging>=21 in c:\\users\\ruchir kalokhe\\appdata\\roaming\\python\\python312\\site-packages (from scikit-image) (24.1)\n",
      "Requirement already satisfied: lazy-loader>=0.4 in c:\\users\\ruchir kalokhe\\appdata\\local\\programs\\python\\python312\\lib\\site-packages (from scikit-image) (0.4)\n",
      "Note: you may need to restart the kernel to use updated packages.\n"
     ]
    }
   ],
   "source": [
    "%pip install scikit-image"
   ]
  },
  {
   "cell_type": "code",
   "execution_count": 7,
   "metadata": {},
   "outputs": [
    {
     "ename": "FileNotFoundError",
     "evalue": "[Errno 2] No such file or directory: 'C:\\\\ml\\\\sanji\\\\sih\\\\Sar_Colorization\\\\ROIs2017_winter_s2\\\\s2_116\\\\ROIs2017_winter_s2_116_p595.tif'",
     "output_type": "error",
     "traceback": [
      "\u001b[1;31m---------------------------------------------------------------------------\u001b[0m",
      "\u001b[1;31mFileNotFoundError\u001b[0m                         Traceback (most recent call last)",
      "\u001b[1;32m~\\AppData\\Local\\Temp\\ipykernel_15132\\4183986640.py\u001b[0m in \u001b[0;36m?\u001b[1;34m()\u001b[0m\n\u001b[0;32m     16\u001b[0m \u001b[1;33m\u001b[0m\u001b[0m\n\u001b[0;32m     17\u001b[0m \u001b[1;31m# Loop through each image file and place it in the grid\u001b[0m\u001b[1;33m\u001b[0m\u001b[1;33m\u001b[0m\u001b[0m\n\u001b[0;32m     18\u001b[0m \u001b[1;32mfor\u001b[0m \u001b[0midx\u001b[0m\u001b[1;33m,\u001b[0m \u001b[0mimg_file\u001b[0m \u001b[1;32min\u001b[0m \u001b[0menumerate\u001b[0m\u001b[1;33m(\u001b[0m\u001b[0mimage_files\u001b[0m\u001b[1;33m)\u001b[0m\u001b[1;33m:\u001b[0m\u001b[1;33m\u001b[0m\u001b[1;33m\u001b[0m\u001b[0m\n\u001b[0;32m     19\u001b[0m     \u001b[1;31m# Read the image stack\u001b[0m\u001b[1;33m\u001b[0m\u001b[1;33m\u001b[0m\u001b[0m\n\u001b[1;32m---> 20\u001b[1;33m     \u001b[0mimg\u001b[0m \u001b[1;33m=\u001b[0m \u001b[0mio\u001b[0m\u001b[1;33m.\u001b[0m\u001b[0mimread\u001b[0m\u001b[1;33m(\u001b[0m\u001b[0mimg_file\u001b[0m\u001b[1;33m)\u001b[0m\u001b[1;33m\u001b[0m\u001b[1;33m\u001b[0m\u001b[0m\n\u001b[0m\u001b[0;32m     21\u001b[0m     \u001b[0mprint\u001b[0m\u001b[1;33m(\u001b[0m\u001b[1;33mf\"\u001b[0m\u001b[1;33mOriginal shape: \u001b[0m\u001b[1;33m{\u001b[0m\u001b[0mimg\u001b[0m\u001b[1;33m.\u001b[0m\u001b[0mshape\u001b[0m\u001b[1;33m}\u001b[0m\u001b[1;33m\"\u001b[0m\u001b[1;33m)\u001b[0m\u001b[1;33m\u001b[0m\u001b[1;33m\u001b[0m\u001b[0m\n\u001b[0;32m     22\u001b[0m \u001b[1;33m\u001b[0m\u001b[0m\n\u001b[0;32m     23\u001b[0m     \u001b[1;31m# Normalize the image to 0-1 range for each channel\u001b[0m\u001b[1;33m\u001b[0m\u001b[1;33m\u001b[0m\u001b[0m\n",
      "\u001b[1;32mc:\\Users\\Ruchir Kalokhe\\AppData\\Local\\Programs\\Python\\Python312\\Lib\\site-packages\\skimage\\io\\_io.py\u001b[0m in \u001b[0;36m?\u001b[1;34m(fname, as_gray, plugin, **plugin_args)\u001b[0m\n\u001b[0;32m     56\u001b[0m         \u001b[1;32mif\u001b[0m \u001b[0mfname\u001b[0m\u001b[1;33m.\u001b[0m\u001b[0mlower\u001b[0m\u001b[1;33m(\u001b[0m\u001b[1;33m)\u001b[0m\u001b[1;33m.\u001b[0m\u001b[0mendswith\u001b[0m\u001b[1;33m(\u001b[0m\u001b[1;33m(\u001b[0m\u001b[1;34m'.tiff'\u001b[0m\u001b[1;33m,\u001b[0m \u001b[1;34m'.tif'\u001b[0m\u001b[1;33m)\u001b[0m\u001b[1;33m)\u001b[0m\u001b[1;33m:\u001b[0m\u001b[1;33m\u001b[0m\u001b[1;33m\u001b[0m\u001b[0m\n\u001b[0;32m     57\u001b[0m             \u001b[0mplugin\u001b[0m \u001b[1;33m=\u001b[0m \u001b[1;34m'tifffile'\u001b[0m\u001b[1;33m\u001b[0m\u001b[1;33m\u001b[0m\u001b[0m\n\u001b[0;32m     58\u001b[0m \u001b[1;33m\u001b[0m\u001b[0m\n\u001b[0;32m     59\u001b[0m     \u001b[1;32mwith\u001b[0m \u001b[0mfile_or_url_context\u001b[0m\u001b[1;33m(\u001b[0m\u001b[0mfname\u001b[0m\u001b[1;33m)\u001b[0m \u001b[1;32mas\u001b[0m \u001b[0mfname\u001b[0m\u001b[1;33m:\u001b[0m\u001b[1;33m\u001b[0m\u001b[1;33m\u001b[0m\u001b[0m\n\u001b[1;32m---> 60\u001b[1;33m         \u001b[0mimg\u001b[0m \u001b[1;33m=\u001b[0m \u001b[0mcall_plugin\u001b[0m\u001b[1;33m(\u001b[0m\u001b[1;34m'imread'\u001b[0m\u001b[1;33m,\u001b[0m \u001b[0mfname\u001b[0m\u001b[1;33m,\u001b[0m \u001b[0mplugin\u001b[0m\u001b[1;33m=\u001b[0m\u001b[0mplugin\u001b[0m\u001b[1;33m,\u001b[0m \u001b[1;33m**\u001b[0m\u001b[0mplugin_args\u001b[0m\u001b[1;33m)\u001b[0m\u001b[1;33m\u001b[0m\u001b[1;33m\u001b[0m\u001b[0m\n\u001b[0m\u001b[0;32m     61\u001b[0m \u001b[1;33m\u001b[0m\u001b[0m\n\u001b[0;32m     62\u001b[0m     \u001b[1;32mif\u001b[0m \u001b[1;32mnot\u001b[0m \u001b[0mhasattr\u001b[0m\u001b[1;33m(\u001b[0m\u001b[0mimg\u001b[0m\u001b[1;33m,\u001b[0m \u001b[1;34m'ndim'\u001b[0m\u001b[1;33m)\u001b[0m\u001b[1;33m:\u001b[0m\u001b[1;33m\u001b[0m\u001b[1;33m\u001b[0m\u001b[0m\n\u001b[0;32m     63\u001b[0m         \u001b[1;32mreturn\u001b[0m \u001b[0mimg\u001b[0m\u001b[1;33m\u001b[0m\u001b[1;33m\u001b[0m\u001b[0m\n",
      "\u001b[1;32mc:\\Users\\Ruchir Kalokhe\\AppData\\Local\\Programs\\Python\\Python312\\Lib\\site-packages\\skimage\\io\\manage_plugins.py\u001b[0m in \u001b[0;36m?\u001b[1;34m(kind, *args, **kwargs)\u001b[0m\n\u001b[0;32m    213\u001b[0m             \u001b[0mfunc\u001b[0m \u001b[1;33m=\u001b[0m \u001b[1;33m[\u001b[0m\u001b[0mf\u001b[0m \u001b[1;32mfor\u001b[0m \u001b[1;33m(\u001b[0m\u001b[0mp\u001b[0m\u001b[1;33m,\u001b[0m \u001b[0mf\u001b[0m\u001b[1;33m)\u001b[0m \u001b[1;32min\u001b[0m \u001b[0mplugin_funcs\u001b[0m \u001b[1;32mif\u001b[0m \u001b[0mp\u001b[0m \u001b[1;33m==\u001b[0m \u001b[0mplugin\u001b[0m\u001b[1;33m]\u001b[0m\u001b[1;33m[\u001b[0m\u001b[1;36m0\u001b[0m\u001b[1;33m]\u001b[0m\u001b[1;33m\u001b[0m\u001b[1;33m\u001b[0m\u001b[0m\n\u001b[0;32m    214\u001b[0m         \u001b[1;32mexcept\u001b[0m \u001b[0mIndexError\u001b[0m\u001b[1;33m:\u001b[0m\u001b[1;33m\u001b[0m\u001b[1;33m\u001b[0m\u001b[0m\n\u001b[0;32m    215\u001b[0m             \u001b[1;32mraise\u001b[0m \u001b[0mRuntimeError\u001b[0m\u001b[1;33m(\u001b[0m\u001b[1;33mf'\u001b[0m\u001b[1;33mCould not find the plugin \"\u001b[0m\u001b[1;33m{\u001b[0m\u001b[0mplugin\u001b[0m\u001b[1;33m}\u001b[0m\u001b[1;33m\" for \u001b[0m\u001b[1;33m{\u001b[0m\u001b[0mkind\u001b[0m\u001b[1;33m}\u001b[0m\u001b[1;33m.\u001b[0m\u001b[1;33m'\u001b[0m\u001b[1;33m)\u001b[0m\u001b[1;33m\u001b[0m\u001b[1;33m\u001b[0m\u001b[0m\n\u001b[0;32m    216\u001b[0m \u001b[1;33m\u001b[0m\u001b[0m\n\u001b[1;32m--> 217\u001b[1;33m     \u001b[1;32mreturn\u001b[0m \u001b[0mfunc\u001b[0m\u001b[1;33m(\u001b[0m\u001b[1;33m*\u001b[0m\u001b[0margs\u001b[0m\u001b[1;33m,\u001b[0m \u001b[1;33m**\u001b[0m\u001b[0mkwargs\u001b[0m\u001b[1;33m)\u001b[0m\u001b[1;33m\u001b[0m\u001b[1;33m\u001b[0m\u001b[0m\n\u001b[0m",
      "\u001b[1;32mc:\\Users\\Ruchir Kalokhe\\AppData\\Local\\Programs\\Python\\Python312\\Lib\\site-packages\\skimage\\io\\_plugins\\tifffile_plugin.py\u001b[0m in \u001b[0;36m?\u001b[1;34m(fname, **kwargs)\u001b[0m\n\u001b[0;32m     70\u001b[0m     \"\"\"\n\u001b[0;32m     71\u001b[0m     \u001b[1;32mif\u001b[0m \u001b[1;34m'img_num'\u001b[0m \u001b[1;32min\u001b[0m \u001b[0mkwargs\u001b[0m\u001b[1;33m:\u001b[0m\u001b[1;33m\u001b[0m\u001b[1;33m\u001b[0m\u001b[0m\n\u001b[0;32m     72\u001b[0m         \u001b[0mkwargs\u001b[0m\u001b[1;33m[\u001b[0m\u001b[1;34m'key'\u001b[0m\u001b[1;33m]\u001b[0m \u001b[1;33m=\u001b[0m \u001b[0mkwargs\u001b[0m\u001b[1;33m.\u001b[0m\u001b[0mpop\u001b[0m\u001b[1;33m(\u001b[0m\u001b[1;34m'img_num'\u001b[0m\u001b[1;33m)\u001b[0m\u001b[1;33m\u001b[0m\u001b[1;33m\u001b[0m\u001b[0m\n\u001b[0;32m     73\u001b[0m \u001b[1;33m\u001b[0m\u001b[0m\n\u001b[1;32m---> 74\u001b[1;33m     \u001b[1;32mreturn\u001b[0m \u001b[0mtifffile_imread\u001b[0m\u001b[1;33m(\u001b[0m\u001b[0mfname\u001b[0m\u001b[1;33m,\u001b[0m \u001b[1;33m**\u001b[0m\u001b[0mkwargs\u001b[0m\u001b[1;33m)\u001b[0m\u001b[1;33m\u001b[0m\u001b[1;33m\u001b[0m\u001b[0m\n\u001b[0m",
      "\u001b[1;32mc:\\Users\\Ruchir Kalokhe\\AppData\\Local\\Programs\\Python\\Python312\\Lib\\site-packages\\tifffile\\tifffile.py\u001b[0m in \u001b[0;36m?\u001b[1;34m(***failed resolving arguments***)\u001b[0m\n\u001b[0;32m   1241\u001b[0m \u001b[1;33m\u001b[0m\u001b[0m\n\u001b[0;32m   1242\u001b[0m         if isinstance(files, str) or not isinstance(\n\u001b[0;32m   1243\u001b[0m             \u001b[0mfiles\u001b[0m\u001b[1;33m,\u001b[0m \u001b[0mcollections\u001b[0m\u001b[1;33m.\u001b[0m\u001b[0mabc\u001b[0m\u001b[1;33m.\u001b[0m\u001b[0mSequence\u001b[0m\u001b[1;33m\u001b[0m\u001b[1;33m\u001b[0m\u001b[0m\n\u001b[0;32m   1244\u001b[0m         \u001b[1;33m)\u001b[0m\u001b[1;33m:\u001b[0m\u001b[1;33m\u001b[0m\u001b[1;33m\u001b[0m\u001b[0m\n\u001b[1;32m-> 1245\u001b[1;33m             with TiffFile(\n\u001b[0m\u001b[0;32m   1246\u001b[0m                 \u001b[0mfiles\u001b[0m\u001b[1;33m,\u001b[0m\u001b[1;33m\u001b[0m\u001b[1;33m\u001b[0m\u001b[0m\n\u001b[0;32m   1247\u001b[0m                 \u001b[0mmode\u001b[0m\u001b[1;33m=\u001b[0m\u001b[0mmode\u001b[0m\u001b[1;33m,\u001b[0m\u001b[1;33m\u001b[0m\u001b[1;33m\u001b[0m\u001b[0m\n\u001b[0;32m   1248\u001b[0m                 \u001b[0mname\u001b[0m\u001b[1;33m=\u001b[0m\u001b[0mname\u001b[0m\u001b[1;33m,\u001b[0m\u001b[1;33m\u001b[0m\u001b[1;33m\u001b[0m\u001b[0m\n",
      "\u001b[1;32mc:\\Users\\Ruchir Kalokhe\\AppData\\Local\\Programs\\Python\\Python312\\Lib\\site-packages\\tifffile\\tifffile.py\u001b[0m in \u001b[0;36m?\u001b[1;34m(self, file, mode, name, offset, size, omexml, _multifile, _useframes, _parent, **is_flags)\u001b[0m\n\u001b[0;32m   4266\u001b[0m                 \u001b[1;32mraise\u001b[0m \u001b[0mValueError\u001b[0m\u001b[1;33m(\u001b[0m\u001b[1;34m'invalid OME-XML'\u001b[0m\u001b[1;33m)\u001b[0m\u001b[1;33m\u001b[0m\u001b[1;33m\u001b[0m\u001b[0m\n\u001b[0;32m   4267\u001b[0m             \u001b[0mself\u001b[0m\u001b[1;33m.\u001b[0m\u001b[0m_omexml\u001b[0m \u001b[1;33m=\u001b[0m \u001b[0momexml\u001b[0m\u001b[1;33m\u001b[0m\u001b[1;33m\u001b[0m\u001b[0m\n\u001b[0;32m   4268\u001b[0m             \u001b[0mself\u001b[0m\u001b[1;33m.\u001b[0m\u001b[0mis_ome\u001b[0m \u001b[1;33m=\u001b[0m \u001b[1;32mTrue\u001b[0m\u001b[1;33m\u001b[0m\u001b[1;33m\u001b[0m\u001b[0m\n\u001b[0;32m   4269\u001b[0m \u001b[1;33m\u001b[0m\u001b[0m\n\u001b[1;32m-> 4270\u001b[1;33m         \u001b[0mfh\u001b[0m \u001b[1;33m=\u001b[0m \u001b[0mFileHandle\u001b[0m\u001b[1;33m(\u001b[0m\u001b[0mfile\u001b[0m\u001b[1;33m,\u001b[0m \u001b[0mmode\u001b[0m\u001b[1;33m=\u001b[0m\u001b[0mmode\u001b[0m\u001b[1;33m,\u001b[0m \u001b[0mname\u001b[0m\u001b[1;33m=\u001b[0m\u001b[0mname\u001b[0m\u001b[1;33m,\u001b[0m \u001b[0moffset\u001b[0m\u001b[1;33m=\u001b[0m\u001b[0moffset\u001b[0m\u001b[1;33m,\u001b[0m \u001b[0msize\u001b[0m\u001b[1;33m=\u001b[0m\u001b[0msize\u001b[0m\u001b[1;33m)\u001b[0m\u001b[1;33m\u001b[0m\u001b[1;33m\u001b[0m\u001b[0m\n\u001b[0m\u001b[0;32m   4271\u001b[0m         \u001b[0mself\u001b[0m\u001b[1;33m.\u001b[0m\u001b[0m_fh\u001b[0m \u001b[1;33m=\u001b[0m \u001b[0mfh\u001b[0m\u001b[1;33m\u001b[0m\u001b[1;33m\u001b[0m\u001b[0m\n\u001b[0;32m   4272\u001b[0m         \u001b[0mself\u001b[0m\u001b[1;33m.\u001b[0m\u001b[0m_multifile\u001b[0m \u001b[1;33m=\u001b[0m \u001b[1;32mTrue\u001b[0m \u001b[1;32mif\u001b[0m \u001b[0m_multifile\u001b[0m \u001b[1;32mis\u001b[0m \u001b[1;32mNone\u001b[0m \u001b[1;32melse\u001b[0m \u001b[0mbool\u001b[0m\u001b[1;33m(\u001b[0m\u001b[0m_multifile\u001b[0m\u001b[1;33m)\u001b[0m\u001b[1;33m\u001b[0m\u001b[1;33m\u001b[0m\u001b[0m\n\u001b[0;32m   4273\u001b[0m         \u001b[0mself\u001b[0m\u001b[1;33m.\u001b[0m\u001b[0m_files\u001b[0m \u001b[1;33m=\u001b[0m \u001b[1;33m{\u001b[0m\u001b[0mfh\u001b[0m\u001b[1;33m.\u001b[0m\u001b[0mname\u001b[0m\u001b[1;33m:\u001b[0m \u001b[0mself\u001b[0m\u001b[1;33m}\u001b[0m\u001b[1;33m\u001b[0m\u001b[1;33m\u001b[0m\u001b[0m\n",
      "\u001b[1;32mc:\\Users\\Ruchir Kalokhe\\AppData\\Local\\Programs\\Python\\Python312\\Lib\\site-packages\\tifffile\\tifffile.py\u001b[0m in \u001b[0;36m?\u001b[1;34m(self, file, mode, name, offset, size)\u001b[0m\n\u001b[0;32m  14655\u001b[0m         \u001b[0mself\u001b[0m\u001b[1;33m.\u001b[0m\u001b[0m_offset\u001b[0m \u001b[1;33m=\u001b[0m \u001b[1;33m-\u001b[0m\u001b[1;36m1\u001b[0m \u001b[1;32mif\u001b[0m \u001b[0moffset\u001b[0m \u001b[1;32mis\u001b[0m \u001b[1;32mNone\u001b[0m \u001b[1;32melse\u001b[0m \u001b[0moffset\u001b[0m\u001b[1;33m\u001b[0m\u001b[1;33m\u001b[0m\u001b[0m\n\u001b[0;32m  14656\u001b[0m         \u001b[0mself\u001b[0m\u001b[1;33m.\u001b[0m\u001b[0m_size\u001b[0m \u001b[1;33m=\u001b[0m \u001b[1;33m-\u001b[0m\u001b[1;36m1\u001b[0m \u001b[1;32mif\u001b[0m \u001b[0msize\u001b[0m \u001b[1;32mis\u001b[0m \u001b[1;32mNone\u001b[0m \u001b[1;32melse\u001b[0m \u001b[0msize\u001b[0m\u001b[1;33m\u001b[0m\u001b[1;33m\u001b[0m\u001b[0m\n\u001b[0;32m  14657\u001b[0m         \u001b[0mself\u001b[0m\u001b[1;33m.\u001b[0m\u001b[0m_close\u001b[0m \u001b[1;33m=\u001b[0m \u001b[1;32mTrue\u001b[0m\u001b[1;33m\u001b[0m\u001b[1;33m\u001b[0m\u001b[0m\n\u001b[0;32m  14658\u001b[0m         \u001b[0mself\u001b[0m\u001b[1;33m.\u001b[0m\u001b[0m_lock\u001b[0m \u001b[1;33m=\u001b[0m \u001b[0mNullContext\u001b[0m\u001b[1;33m(\u001b[0m\u001b[1;33m)\u001b[0m\u001b[1;33m\u001b[0m\u001b[1;33m\u001b[0m\u001b[0m\n\u001b[1;32m> 14659\u001b[1;33m         \u001b[0mself\u001b[0m\u001b[1;33m.\u001b[0m\u001b[0mopen\u001b[0m\u001b[1;33m(\u001b[0m\u001b[1;33m)\u001b[0m\u001b[1;33m\u001b[0m\u001b[1;33m\u001b[0m\u001b[0m\n\u001b[0m\u001b[0;32m  14660\u001b[0m         \u001b[1;32massert\u001b[0m \u001b[0mself\u001b[0m\u001b[1;33m.\u001b[0m\u001b[0m_fh\u001b[0m \u001b[1;32mis\u001b[0m \u001b[1;32mnot\u001b[0m \u001b[1;32mNone\u001b[0m\u001b[1;33m\u001b[0m\u001b[1;33m\u001b[0m\u001b[0m\n",
      "\u001b[1;32mc:\\Users\\Ruchir Kalokhe\\AppData\\Local\\Programs\\Python\\Python312\\Lib\\site-packages\\tifffile\\tifffile.py\u001b[0m in \u001b[0;36m?\u001b[1;34m(self)\u001b[0m\n\u001b[0;32m  14674\u001b[0m             \u001b[1;32mif\u001b[0m \u001b[0mself\u001b[0m\u001b[1;33m.\u001b[0m\u001b[0m_mode\u001b[0m \u001b[1;32mnot\u001b[0m \u001b[1;32min\u001b[0m \u001b[1;33m{\u001b[0m\u001b[1;34m'rb'\u001b[0m\u001b[1;33m,\u001b[0m \u001b[1;34m'r+b'\u001b[0m\u001b[1;33m,\u001b[0m \u001b[1;34m'wb'\u001b[0m\u001b[1;33m,\u001b[0m \u001b[1;34m'xb'\u001b[0m\u001b[1;33m}\u001b[0m\u001b[1;33m:\u001b[0m\u001b[1;33m\u001b[0m\u001b[1;33m\u001b[0m\u001b[0m\n\u001b[0;32m  14675\u001b[0m                 \u001b[1;32mraise\u001b[0m \u001b[0mValueError\u001b[0m\u001b[1;33m(\u001b[0m\u001b[1;33mf'\u001b[0m\u001b[1;33minvalid mode \u001b[0m\u001b[1;33m{\u001b[0m\u001b[0mself\u001b[0m\u001b[1;33m.\u001b[0m\u001b[0m_mode\u001b[0m\u001b[1;33m}\u001b[0m\u001b[1;33m'\u001b[0m\u001b[1;33m)\u001b[0m\u001b[1;33m\u001b[0m\u001b[1;33m\u001b[0m\u001b[0m\n\u001b[0;32m  14676\u001b[0m             \u001b[0mself\u001b[0m\u001b[1;33m.\u001b[0m\u001b[0m_file\u001b[0m \u001b[1;33m=\u001b[0m \u001b[0mos\u001b[0m\u001b[1;33m.\u001b[0m\u001b[0mpath\u001b[0m\u001b[1;33m.\u001b[0m\u001b[0mrealpath\u001b[0m\u001b[1;33m(\u001b[0m\u001b[0mself\u001b[0m\u001b[1;33m.\u001b[0m\u001b[0m_file\u001b[0m\u001b[1;33m)\u001b[0m\u001b[1;33m\u001b[0m\u001b[1;33m\u001b[0m\u001b[0m\n\u001b[0;32m  14677\u001b[0m             \u001b[0mself\u001b[0m\u001b[1;33m.\u001b[0m\u001b[0m_dir\u001b[0m\u001b[1;33m,\u001b[0m \u001b[0mself\u001b[0m\u001b[1;33m.\u001b[0m\u001b[0m_name\u001b[0m \u001b[1;33m=\u001b[0m \u001b[0mos\u001b[0m\u001b[1;33m.\u001b[0m\u001b[0mpath\u001b[0m\u001b[1;33m.\u001b[0m\u001b[0msplit\u001b[0m\u001b[1;33m(\u001b[0m\u001b[0mself\u001b[0m\u001b[1;33m.\u001b[0m\u001b[0m_file\u001b[0m\u001b[1;33m)\u001b[0m\u001b[1;33m\u001b[0m\u001b[1;33m\u001b[0m\u001b[0m\n\u001b[1;32m> 14678\u001b[1;33m             self._fh = open(\n\u001b[0m\u001b[0;32m  14679\u001b[0m                 \u001b[0mself\u001b[0m\u001b[1;33m.\u001b[0m\u001b[0m_file\u001b[0m\u001b[1;33m,\u001b[0m \u001b[0mself\u001b[0m\u001b[1;33m.\u001b[0m\u001b[0m_mode\u001b[0m\u001b[1;33m,\u001b[0m \u001b[0mencoding\u001b[0m\u001b[1;33m=\u001b[0m\u001b[1;32mNone\u001b[0m\u001b[1;33m\u001b[0m\u001b[1;33m\u001b[0m\u001b[0m\n\u001b[0;32m  14680\u001b[0m             \u001b[1;33m)\u001b[0m  \u001b[1;31m# type: ignore\u001b[0m\u001b[1;33m\u001b[0m\u001b[1;33m\u001b[0m\u001b[0m\n\u001b[0;32m  14681\u001b[0m             \u001b[0mself\u001b[0m\u001b[1;33m.\u001b[0m\u001b[0m_close\u001b[0m \u001b[1;33m=\u001b[0m \u001b[1;32mTrue\u001b[0m\u001b[1;33m\u001b[0m\u001b[1;33m\u001b[0m\u001b[0m\n",
      "\u001b[1;31mFileNotFoundError\u001b[0m: [Errno 2] No such file or directory: 'C:\\\\ml\\\\sanji\\\\sih\\\\Sar_Colorization\\\\ROIs2017_winter_s2\\\\s2_116\\\\ROIs2017_winter_s2_116_p595.tif'"
     ]
    },
    {
     "data": {
      "image/png": "[encoded data removed]",
      "text/plain": [
       "<Figure size 1500x500 with 3 Axes>"
      ]
     },
     "metadata": {},
     "output_type": "display_data"
    }
   ],
   "source": [
    "from skimage import io\n",
    "import matplotlib.pyplot as plt\n",
    "from pathlib import Path\n",
    "import numpy as np\n",
    "\n",
    "# List of image file paths (p125 to p128)\n",
    "image_files = [\n",
    "    Path(r'C:\\ml\\sanji\\sih\\Sar_Colorization\\ROIs2017_winter_s2\\s2_116\\ROIs2017_winter_s2_116_p595.tif'),\n",
    "    Path(r'C:\\ml\\sanji\\sih\\Sar_Colorization\\ROIs2017_winter_s2\\s2_116\\ROIs2017_winter_s2_116_p596.tif'),\n",
    "    Path(r'C:\\ml\\sanji\\sih\\Sar_Colorization\\ROIs2017_winter_s2\\s2_116\\ROIs2017_winter_s2_116_p597.tif'),\n",
    "    # Path('E:\\\\Projects\\\\SAR colorization\\\\ROIs2017_winter_s1\\\\s1_116\\\\ROIs2017_winter_s1_116_p128.tif')\n",
    "]\n",
    "\n",
    "# Create a 3x3 grid\n",
    "fig, axes = plt.subplots(1, 3, figsize=(15, 5))\n",
    "\n",
    "# Loop through each image file and place it in the grid\n",
    "for idx, img_file in enumerate(image_files):\n",
    "    # Read the image stack\n",
    "    img = io.imread(img_file)\n",
    "    print(f\"Original shape: {img.shape}\")\n",
    "\n",
    "    # Normalize the image to 0-1 range for each channel\n",
    "    img_normalized = (img - img.min()) / (img.max() - img.min())\n",
    "\n",
    "    # Create a pseudo-color image\n",
    "    pseudo_color = np.stack([\n",
    "        img_normalized[:,:,3],  # Red channel\n",
    "        img_normalized[:,:,2],  # Green channel\n",
    "        img_normalized[:,:,1] # img_normalized[:,:,1]) / 2  # Blue channel (average of the two)\n",
    "    ], axis=-1)\n",
    "\n",
    "    # Display the pseudo-color image\n",
    "    axes[idx].imshow(pseudo_color)\n",
    "    axes[idx].set_title(img_file.name)\n",
    "    axes[idx].axis('off')\n",
    "\n",
    "plt.tight_layout()\n",
    "plt.show()"
   ]
  },
  {
   "cell_type": "code",
   "execution_count": null,
   "metadata": {},
   "outputs": [
    {
     "ename": "RuntimeError",
     "evalue": "CUDA error: device-side assert triggered\nCUDA kernel errors might be asynchronously reported at some other API call, so the stacktrace below might be incorrect.\nFor debugging consider passing CUDA_LAUNCH_BLOCKING=1\nCompile with `TORCH_USE_CUDA_DSA` to enable device-side assertions.\n",
     "output_type": "error",
     "traceback": [
      "\u001b[1;31m---------------------------------------------------------------------------\u001b[0m",
      "\u001b[1;31mRuntimeError\u001b[0m                              Traceback (most recent call last)",
      "Cell \u001b[1;32mIn[18], line 1\u001b[0m\n\u001b[1;32m----> 1\u001b[0m model \u001b[38;5;241m=\u001b[39m \u001b[43mSARModel\u001b[49m\u001b[43m(\u001b[49m\u001b[43m)\u001b[49m\n\u001b[0;32m      2\u001b[0m model\u001b[38;5;241m.\u001b[39mtrain(train_dataloader, test_dataloader, epochs\u001b[38;5;241m=\u001b[39m\u001b[38;5;241m10\u001b[39m)\n",
      "Cell \u001b[1;32mIn[16], line 9\u001b[0m, in \u001b[0;36mSARModel.__init__\u001b[1;34m(self)\u001b[0m\n\u001b[0;32m      8\u001b[0m \u001b[38;5;28;01mdef\u001b[39;00m \u001b[38;5;21m__init__\u001b[39m(\u001b[38;5;28mself\u001b[39m):\n\u001b[1;32m----> 9\u001b[0m     \u001b[38;5;28mself\u001b[39m\u001b[38;5;241m.\u001b[39mgenerator \u001b[38;5;241m=\u001b[39m \u001b[43mGeneratorModel\u001b[49m\u001b[43m(\u001b[49m\u001b[43m)\u001b[49m\u001b[38;5;241;43m.\u001b[39;49m\u001b[43mto\u001b[49m\u001b[43m(\u001b[49m\u001b[43mdevice\u001b[49m\u001b[38;5;241;43m=\u001b[39;49m\u001b[43mdevice\u001b[49m\u001b[43m)\u001b[49m\n\u001b[0;32m     10\u001b[0m     \u001b[38;5;28mself\u001b[39m\u001b[38;5;241m.\u001b[39mdiscriminator \u001b[38;5;241m=\u001b[39m DiscriminatorModel()\u001b[38;5;241m.\u001b[39mto(device\u001b[38;5;241m=\u001b[39mdevice)\n\u001b[0;32m     11\u001b[0m     \u001b[38;5;28mself\u001b[39m\u001b[38;5;241m.\u001b[39mwriter \u001b[38;5;241m=\u001b[39m SummaryWriter(\u001b[38;5;124m'\u001b[39m\u001b[38;5;124mruns/sar\u001b[39m\u001b[38;5;124m'\u001b[39m)\n",
      "File \u001b[1;32mc:\\ml\\lib\\site-packages\\torch\\nn\\modules\\module.py:1320\u001b[0m, in \u001b[0;36mModule.to\u001b[1;34m(self, *args, **kwargs)\u001b[0m\n\u001b[0;32m   1317\u001b[0m         \u001b[38;5;28;01melse\u001b[39;00m:\n\u001b[0;32m   1318\u001b[0m             \u001b[38;5;28;01mraise\u001b[39;00m\n\u001b[1;32m-> 1320\u001b[0m \u001b[38;5;28;01mreturn\u001b[39;00m \u001b[38;5;28;43mself\u001b[39;49m\u001b[38;5;241;43m.\u001b[39;49m\u001b[43m_apply\u001b[49m\u001b[43m(\u001b[49m\u001b[43mconvert\u001b[49m\u001b[43m)\u001b[49m\n",
      "File \u001b[1;32mc:\\ml\\lib\\site-packages\\torch\\nn\\modules\\module.py:899\u001b[0m, in \u001b[0;36mModule._apply\u001b[1;34m(self, fn, recurse)\u001b[0m\n\u001b[0;32m    897\u001b[0m \u001b[38;5;28;01mif\u001b[39;00m recurse:\n\u001b[0;32m    898\u001b[0m     \u001b[38;5;28;01mfor\u001b[39;00m module \u001b[38;5;129;01min\u001b[39;00m \u001b[38;5;28mself\u001b[39m\u001b[38;5;241m.\u001b[39mchildren():\n\u001b[1;32m--> 899\u001b[0m         \u001b[43mmodule\u001b[49m\u001b[38;5;241;43m.\u001b[39;49m\u001b[43m_apply\u001b[49m\u001b[43m(\u001b[49m\u001b[43mfn\u001b[49m\u001b[43m)\u001b[49m\n\u001b[0;32m    901\u001b[0m \u001b[38;5;28;01mdef\u001b[39;00m \u001b[38;5;21mcompute_should_use_set_data\u001b[39m(tensor, tensor_applied):\n\u001b[0;32m    902\u001b[0m     \u001b[38;5;28;01mif\u001b[39;00m torch\u001b[38;5;241m.\u001b[39m_has_compatible_shallow_copy_type(tensor, tensor_applied):\n\u001b[0;32m    903\u001b[0m         \u001b[38;5;66;03m# If the new tensor has compatible tensor type as the existing tensor,\u001b[39;00m\n\u001b[0;32m    904\u001b[0m         \u001b[38;5;66;03m# the current behavior is to change the tensor in-place using `.data =`,\u001b[39;00m\n\u001b[1;32m   (...)\u001b[0m\n\u001b[0;32m    909\u001b[0m         \u001b[38;5;66;03m# global flag to let the user control whether they want the future\u001b[39;00m\n\u001b[0;32m    910\u001b[0m         \u001b[38;5;66;03m# behavior of overwriting the existing tensor or not.\u001b[39;00m\n",
      "File \u001b[1;32mc:\\ml\\lib\\site-packages\\torch\\nn\\modules\\module.py:926\u001b[0m, in \u001b[0;36mModule._apply\u001b[1;34m(self, fn, recurse)\u001b[0m\n\u001b[0;32m    922\u001b[0m \u001b[38;5;66;03m# Tensors stored in modules are graph leaves, and we don't want to\u001b[39;00m\n\u001b[0;32m    923\u001b[0m \u001b[38;5;66;03m# track autograd history of `param_applied`, so we have to use\u001b[39;00m\n\u001b[0;32m    924\u001b[0m \u001b[38;5;66;03m# `with torch.no_grad():`\u001b[39;00m\n\u001b[0;32m    925\u001b[0m \u001b[38;5;28;01mwith\u001b[39;00m torch\u001b[38;5;241m.\u001b[39mno_grad():\n\u001b[1;32m--> 926\u001b[0m     param_applied \u001b[38;5;241m=\u001b[39m \u001b[43mfn\u001b[49m\u001b[43m(\u001b[49m\u001b[43mparam\u001b[49m\u001b[43m)\u001b[49m\n\u001b[0;32m    927\u001b[0m p_should_use_set_data \u001b[38;5;241m=\u001b[39m compute_should_use_set_data(param, param_applied)\n\u001b[0;32m    929\u001b[0m \u001b[38;5;66;03m# subclasses may have multiple child tensors so we need to use swap_tensors\u001b[39;00m\n",
      "File \u001b[1;32mc:\\ml\\lib\\site-packages\\torch\\nn\\modules\\module.py:1306\u001b[0m, in \u001b[0;36mModule.to.<locals>.convert\u001b[1;34m(t)\u001b[0m\n\u001b[0;32m   1299\u001b[0m     \u001b[38;5;28;01mif\u001b[39;00m convert_to_format \u001b[38;5;129;01mis\u001b[39;00m \u001b[38;5;129;01mnot\u001b[39;00m \u001b[38;5;28;01mNone\u001b[39;00m \u001b[38;5;129;01mand\u001b[39;00m t\u001b[38;5;241m.\u001b[39mdim() \u001b[38;5;129;01min\u001b[39;00m (\u001b[38;5;241m4\u001b[39m, \u001b[38;5;241m5\u001b[39m):\n\u001b[0;32m   1300\u001b[0m         \u001b[38;5;28;01mreturn\u001b[39;00m t\u001b[38;5;241m.\u001b[39mto(\n\u001b[0;32m   1301\u001b[0m             device,\n\u001b[0;32m   1302\u001b[0m             dtype \u001b[38;5;28;01mif\u001b[39;00m t\u001b[38;5;241m.\u001b[39mis_floating_point() \u001b[38;5;129;01mor\u001b[39;00m t\u001b[38;5;241m.\u001b[39mis_complex() \u001b[38;5;28;01melse\u001b[39;00m \u001b[38;5;28;01mNone\u001b[39;00m,\n\u001b[0;32m   1303\u001b[0m             non_blocking,\n\u001b[0;32m   1304\u001b[0m             memory_format\u001b[38;5;241m=\u001b[39mconvert_to_format,\n\u001b[0;32m   1305\u001b[0m         )\n\u001b[1;32m-> 1306\u001b[0m     \u001b[38;5;28;01mreturn\u001b[39;00m \u001b[43mt\u001b[49m\u001b[38;5;241;43m.\u001b[39;49m\u001b[43mto\u001b[49m\u001b[43m(\u001b[49m\n\u001b[0;32m   1307\u001b[0m \u001b[43m        \u001b[49m\u001b[43mdevice\u001b[49m\u001b[43m,\u001b[49m\n\u001b[0;32m   1308\u001b[0m \u001b[43m        \u001b[49m\u001b[43mdtype\u001b[49m\u001b[43m \u001b[49m\u001b[38;5;28;43;01mif\u001b[39;49;00m\u001b[43m \u001b[49m\u001b[43mt\u001b[49m\u001b[38;5;241;43m.\u001b[39;49m\u001b[43mis_floating_point\u001b[49m\u001b[43m(\u001b[49m\u001b[43m)\u001b[49m\u001b[43m \u001b[49m\u001b[38;5;129;43;01mor\u001b[39;49;00m\u001b[43m \u001b[49m\u001b[43mt\u001b[49m\u001b[38;5;241;43m.\u001b[39;49m\u001b[43mis_complex\u001b[49m\u001b[43m(\u001b[49m\u001b[43m)\u001b[49m\u001b[43m \u001b[49m\u001b[38;5;28;43;01melse\u001b[39;49;00m\u001b[43m \u001b[49m\u001b[38;5;28;43;01mNone\u001b[39;49;00m\u001b[43m,\u001b[49m\n\u001b[0;32m   1309\u001b[0m \u001b[43m        \u001b[49m\u001b[43mnon_blocking\u001b[49m\u001b[43m,\u001b[49m\n\u001b[0;32m   1310\u001b[0m \u001b[43m    \u001b[49m\u001b[43m)\u001b[49m\n\u001b[0;32m   1311\u001b[0m \u001b[38;5;28;01mexcept\u001b[39;00m \u001b[38;5;167;01mNotImplementedError\u001b[39;00m \u001b[38;5;28;01mas\u001b[39;00m e:\n\u001b[0;32m   1312\u001b[0m     \u001b[38;5;28;01mif\u001b[39;00m \u001b[38;5;28mstr\u001b[39m(e) \u001b[38;5;241m==\u001b[39m \u001b[38;5;124m\"\u001b[39m\u001b[38;5;124mCannot copy out of meta tensor; no data!\u001b[39m\u001b[38;5;124m\"\u001b[39m:\n",
      "\u001b[1;31mRuntimeError\u001b[0m: CUDA error: device-side assert triggered\nCUDA kernel errors might be asynchronously reported at some other API call, so the stacktrace below might be incorrect.\nFor debugging consider passing CUDA_LAUNCH_BLOCKING=1\nCompile with `TORCH_USE_CUDA_DSA` to enable device-side assertions.\n"
     ]
    }
   ],
   "source": [
    "model = SARModel()\n",
    "model.train(train_dataloader, test_dataloader, epochs=10)"
   ]
  },
  {
   "cell_type": "code",
   "execution_count": 8,
   "metadata": {},
   "outputs": [
    {
     "name": "stdout",
     "output_type": "stream",
     "text": [
      "2.4.0+cu124\n"
     ]
    }
   ],
   "source": [
    "import torch\n",
    "print(torch.__version__)"
   ]
  },
  {
   "cell_type": "code",
   "execution_count": 9,
   "metadata": {},
   "outputs": [
    {
     "name": "stdout",
     "output_type": "stream",
     "text": [
      "Sun Sep  1 11:00:36 2024       \n",
      "+-----------------------------------------------------------------------------------------+\n",
      "| NVIDIA-SMI 560.94                 Driver Version: 560.94         CUDA Version: 12.6     |\n",
      "|-----------------------------------------+------------------------+----------------------+\n",
      "| GPU  Name                  Driver-Model | Bus-Id          Disp.A | Volatile Uncorr. ECC |\n",
      "| Fan  Temp   Perf          Pwr:Usage/Cap |           Memory-Usage | GPU-Util  Compute M. |\n",
      "|                                         |                        |               MIG M. |\n",
      "|=========================================+========================+======================|\n",
      "|   0  NVIDIA GeForce RTX 4060 ...  WDDM  |   00000000:01:00.0 Off |                  N/A |\n",
      "| N/A   47C    P8              2W /   80W |    2967MiB /   8188MiB |      0%      Default |\n",
      "|                                         |                        |                  N/A |\n",
      "+-----------------------------------------+------------------------+----------------------+\n",
      "                                                                                         \n",
      "+-----------------------------------------------------------------------------------------+\n",
      "| Processes:                                                                              |\n",
      "|  GPU   GI   CI        PID   Type   Process name                              GPU Memory |\n",
      "|        ID   ID                                                               Usage      |\n",
      "|=========================================================================================|\n",
      "|    0   N/A  N/A     15132      C   ...rograms\\Python\\Python312\\python.exe      N/A      |\n",
      "+-----------------------------------------------------------------------------------------+\n"
     ]
    }
   ],
   "source": [
    "!nvidia-smi"
   ]
  },
  {
   "cell_type": "code",
   "execution_count": 10,
   "metadata": {},
   "outputs": [
    {
     "name": "stdout",
     "output_type": "stream",
     "text": [
      "CUDA available: True\n",
      "Current device: 0\n",
      "Device name: NVIDIA GeForce RTX 4060 Laptop GPU\n"
     ]
    }
   ],
   "source": [
    "print(f\"CUDA available: {torch.cuda.is_available()}\")\n",
    "print(f\"Current device: {torch.cuda.current_device()}\")\n",
    "print(f\"Device name: {torch.cuda.get_device_name()}\")"
   ]
  },
  {
   "cell_type": "markdown",
   "metadata": {},
   "source": [
    "# RESTARTING"
   ]
  },
  {
   "cell_type": "markdown",
   "metadata": {},
   "source": [
    "## DATA PIPELINE"
   ]
  },
  {
   "cell_type": "markdown",
   "metadata": {},
   "source": [
    "### Segmentation"
   ]
  },
  {
   "cell_type": "code",
   "execution_count": 2,
   "metadata": {},
   "outputs": [
    {
     "name": "stdout",
     "output_type": "stream",
     "text": [
      "Collecting opencv-python\n",
      "  Downloading opencv_python-4.10.0.84-cp37-abi3-win_amd64.whl.metadata (20 kB)\n",
      "Requirement already satisfied: numpy>=1.21.2 in c:\\users\\ruchir kalokhe\\appdata\\local\\programs\\python\\python312\\lib\\site-packages (from opencv-python) (1.26.3)\n",
      "Downloading opencv_python-4.10.0.84-cp37-abi3-win_amd64.whl (38.8 MB)\n",
      "   ---------------------------------------- 0.0/38.8 MB ? eta -:--:--\n",
      "   ---------------------------------------- 0.3/38.8 MB ? eta -:--:--\n",
      "    --------------------------------------- 0.5/38.8 MB 1.9 MB/s eta 0:00:21\n",
      "    --------------------------------------- 0.8/38.8 MB 1.8 MB/s eta 0:00:22\n",
      "   - -------------------------------------- 1.0/38.8 MB 1.7 MB/s eta 0:00:22\n",
      "   - -------------------------------------- 1.0/38.8 MB 1.7 MB/s eta 0:00:22\n",
      "   - -------------------------------------- 1.3/38.8 MB 1.2 MB/s eta 0:00:32\n",
      "   - -------------------------------------- 1.3/38.8 MB 1.2 MB/s eta 0:00:32\n",
      "   - -------------------------------------- 1.6/38.8 MB 921.7 kB/s eta 0:00:41\n",
      "   - -------------------------------------- 1.8/38.8 MB 1.0 MB/s eta 0:00:37\n",
      "   -- ------------------------------------- 2.6/38.8 MB 1.3 MB/s eta 0:00:28\n",
      "   --- ------------------------------------ 3.1/38.8 MB 1.5 MB/s eta 0:00:25\n",
      "   ---- ----------------------------------- 3.9/38.8 MB 1.7 MB/s eta 0:00:22\n",
      "   ---- ----------------------------------- 4.7/38.8 MB 1.8 MB/s eta 0:00:19\n",
      "   ----- ---------------------------------- 5.2/38.8 MB 1.9 MB/s eta 0:00:18\n",
      "   ------ --------------------------------- 6.3/38.8 MB 2.1 MB/s eta 0:00:16\n",
      "   ------- -------------------------------- 7.3/38.8 MB 2.4 MB/s eta 0:00:14\n",
      "   -------- ------------------------------- 8.7/38.8 MB 2.6 MB/s eta 0:00:12\n",
      "   --------- ------------------------------ 9.2/38.8 MB 2.7 MB/s eta 0:00:12\n",
      "   --------- ------------------------------ 9.2/38.8 MB 2.7 MB/s eta 0:00:12\n",
      "   --------- ------------------------------ 9.4/38.8 MB 2.4 MB/s eta 0:00:13\n",
      "   ---------- ----------------------------- 10.5/38.8 MB 2.5 MB/s eta 0:00:12\n",
      "   ----------- ---------------------------- 11.5/38.8 MB 2.7 MB/s eta 0:00:11\n",
      "   ------------ --------------------------- 12.3/38.8 MB 2.7 MB/s eta 0:00:10\n",
      "   ------------- -------------------------- 12.8/38.8 MB 2.7 MB/s eta 0:00:10\n",
      "   ------------- -------------------------- 13.4/38.8 MB 2.7 MB/s eta 0:00:10\n",
      "   -------------- ------------------------- 14.4/38.8 MB 2.8 MB/s eta 0:00:09\n",
      "   --------------- ------------------------ 14.9/38.8 MB 2.8 MB/s eta 0:00:09\n",
      "   --------------- ------------------------ 15.2/38.8 MB 2.8 MB/s eta 0:00:09\n",
      "   --------------- ------------------------ 15.5/38.8 MB 2.7 MB/s eta 0:00:09\n",
      "   --------------- ------------------------ 15.5/38.8 MB 2.7 MB/s eta 0:00:09\n",
      "   ---------------- ----------------------- 15.7/38.8 MB 2.6 MB/s eta 0:00:09\n",
      "   ---------------- ----------------------- 15.7/38.8 MB 2.6 MB/s eta 0:00:09\n",
      "   ---------------- ----------------------- 16.0/38.8 MB 2.5 MB/s eta 0:00:10\n",
      "   ---------------- ----------------------- 16.3/38.8 MB 2.4 MB/s eta 0:00:10\n",
      "   ----------------- ---------------------- 17.0/38.8 MB 2.4 MB/s eta 0:00:10\n",
      "   ------------------ --------------------- 17.8/38.8 MB 2.5 MB/s eta 0:00:09\n",
      "   ------------------- -------------------- 18.9/38.8 MB 2.5 MB/s eta 0:00:08\n",
      "   ------------------- -------------------- 19.4/38.8 MB 2.5 MB/s eta 0:00:08\n",
      "   --------------------- ------------------ 20.4/38.8 MB 2.6 MB/s eta 0:00:08\n",
      "   ---------------------- ----------------- 21.5/38.8 MB 2.7 MB/s eta 0:00:07\n",
      "   ----------------------- ---------------- 22.8/38.8 MB 2.8 MB/s eta 0:00:06\n",
      "   ------------------------ --------------- 24.1/38.8 MB 2.8 MB/s eta 0:00:06\n",
      "   ------------------------- -------------- 25.2/38.8 MB 2.9 MB/s eta 0:00:05\n",
      "   --------------------------- ------------ 26.5/38.8 MB 3.0 MB/s eta 0:00:05\n",
      "   ---------------------------- ----------- 27.5/38.8 MB 3.0 MB/s eta 0:00:04\n",
      "   ----------------------------- ---------- 28.6/38.8 MB 3.1 MB/s eta 0:00:04\n",
      "   ------------------------------ --------- 29.9/38.8 MB 3.2 MB/s eta 0:00:03\n",
      "   -------------------------------- ------- 31.2/38.8 MB 3.2 MB/s eta 0:00:03\n",
      "   --------------------------------- ------ 32.2/38.8 MB 3.3 MB/s eta 0:00:03\n",
      "   ---------------------------------- ----- 33.3/38.8 MB 3.3 MB/s eta 0:00:02\n",
      "   ----------------------------------- ---- 34.6/38.8 MB 3.4 MB/s eta 0:00:02\n",
      "   ------------------------------------ --- 35.7/38.8 MB 3.4 MB/s eta 0:00:01\n",
      "   ------------------------------------- -- 36.7/38.8 MB 3.4 MB/s eta 0:00:01\n",
      "   ---------------------------------------  38.0/38.8 MB 3.5 MB/s eta 0:00:01\n",
      "   ---------------------------------------  38.8/38.8 MB 3.5 MB/s eta 0:00:01\n",
      "   ---------------------------------------- 38.8/38.8 MB 3.5 MB/s eta 0:00:00\n",
      "Installing collected packages: opencv-python\n",
      "Successfully installed opencv-python-4.10.0.84\n"
     ]
    }
   ],
   "source": [
    "!pip install opencv-python"
   ]
  },
  {
   "cell_type": "code",
   "execution_count": 9,
   "metadata": {},
   "outputs": [
    {
     "name": "stdout",
     "output_type": "stream",
     "text": [
      "Number of segmented tiles: 16\n"
     ]
    }
   ],
   "source": [
    "import cv2\n",
    "import numpy as np\n",
    "\n",
    "# Original SAR Image Dimensions\n",
    "width = 2500\n",
    "height = 1733\n",
    "\n",
    "# Tile Dimensions (approx. 10% of original)\n",
    "tile_width = int(width / 4)\n",
    "tile_height = int(height / 4)\n",
    "\n",
    "def segment_image(image):\n",
    "    # Create a grid of coordinates to divide the image into tiles\n",
    "    x_coords = np.arange(0, width + tile_width - 1, tile_width)\n",
    "    y_coords = np.arange(0, height + tile_height - 1, tile_height)\n",
    "\n",
    "    # Initialize an empty list to store the segmented tiles\n",
    "    segments = []\n",
    "\n",
    "    for i in range(len(x_coords) - 1):\n",
    "        x1 = x_coords[i]\n",
    "        x2 = x_coords[i + 1]\n",
    "\n",
    "        for j in range(len(y_coords) - 1):\n",
    "            y1 = y_coords[j]\n",
    "            y2 = y_coords[j + 1]\n",
    "\n",
    "            # Extract the tile from the original image\n",
    "            segment = image[y1:y2, x1:x2]\n",
    "\n",
    "            # Store the extracted tile in the segments list\n",
    "            segments.append(segment)\n",
    "\n",
    "    return segments\n",
    "\n",
    "# Load the SAR Image (for demonstration purposes only)\n",
    "sar_image_path = \"SAR_Image_Colorization_Pairs/train/SAR-Image-1.jpg\"\n",
    "image = cv2.imread(sar_image_path)\n",
    "\n",
    "# Segment the SAR image into 500x373 tiles\n",
    "segments = segment_image(image)\n",
    "\n",
    "print(f\"Number of segmented tiles: {len(segments)}\")\n",
    "\n",
    "# Save each tile to a separate file (optional)\n",
    "for i, segment in enumerate(segments):\n",
    "    cv2.imwrite(f\"tile_{i}.jpg\", segment)\n"
   ]
  }
 ],
 "metadata": {
  "kernelspec": {
   "display_name": "Python 3",
   "language": "python",
   "name": "python3"
  },
  "language_info": {
   "codemirror_mode": {
    "name": "ipython",
    "version": 3
   },
   "file_extension": ".py",
   "mimetype": "text/x-python",
   "name": "python",
   "nbconvert_exporter": "python",
   "pygments_lexer": "ipython3",
   "version": "3.12.5"
  }
 },
 "nbformat": 4,
 "nbformat_minor": 2
}
